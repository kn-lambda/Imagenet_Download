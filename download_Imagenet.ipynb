{
 "cells": [
  {
   "cell_type": "raw",
   "metadata": {},
   "source": [
    "#Imagenet labels for Caffe zoo ??\n",
    "https://github.com/EnsekiTT/blog/blob/master/20171118_zoo/label.txt\n",
    " ----> label.tsv "
   ]
  },
  {
   "cell_type": "code",
   "execution_count": 1,
   "metadata": {
    "collapsed": true
   },
   "outputs": [],
   "source": [
    "import sys,os\n",
    "from urllib.request import urlopen\n",
    "from urllib.request import urlretrieve\n",
    "from urllib.error import URLError,HTTPError \n",
    "import subprocess\n",
    "import argparse\n",
    "import random\n",
    "from PIL import Image\n",
    "import os.path"
   ]
  },
  {
   "cell_type": "code",
   "execution_count": 2,
   "metadata": {
    "collapsed": true
   },
   "outputs": [],
   "source": [
    "import numpy as np\n",
    "from numpy import random"
   ]
  },
  {
   "cell_type": "code",
   "execution_count": 3,
   "metadata": {
    "collapsed": true
   },
   "outputs": [],
   "source": [
    "def execute(cmd):\n",
    "    subprocess.call(cmd.split())"
   ]
  },
  {
   "cell_type": "code",
   "execution_count": 4,
   "metadata": {
    "collapsed": true
   },
   "outputs": [],
   "source": [
    "class Args(object):\n",
    "    \n",
    "    def __init__(self, f_classes, f_words='words.txt', data_dir='images', n_classes=1000, n_pics=10):\n",
    "        self.f_classes = f_classes\n",
    "        self.f_words = f_words\n",
    "        self.data_dir = data_dir\n",
    "        self.n_classes = n_classes\n",
    "        self.n_pics = n_pics"
   ]
  },
  {
   "cell_type": "code",
   "execution_count": 5,
   "metadata": {
    "collapsed": true
   },
   "outputs": [],
   "source": [
    "args = Args('label.tsv')"
   ]
  },
  {
   "cell_type": "code",
   "execution_count": 6,
   "metadata": {
    "collapsed": true
   },
   "outputs": [],
   "source": [
    "df_id = pd.read_csv(args.f_classes, header=None, delimiter='\\t')\n",
    "df_id.columns = ['id', 'name']"
   ]
  },
  {
   "cell_type": "code",
   "execution_count": 7,
   "metadata": {
    "collapsed": true
   },
   "outputs": [],
   "source": [
    "cmd = \"mkdir -p {}\".format(args.data_dir)\n",
    "execute(cmd)"
   ]
  },
  {
   "cell_type": "code",
   "execution_count": 8,
   "metadata": {},
   "outputs": [
    {
     "name": "stdout",
     "output_type": "stream",
     "text": [
      "996 : hen-of-the-woods, hen of the woods, Polyporus frondosus, Grifola frondosa\n",
      "====================\n",
      "http://i18.ebayimg.com/05/i/000/b5/d7/1ef9_1.JPG\n",
      "http://www.mycokey.com/MycoKeySolidState/pictures/basi/agar/Marasmius/orea2S.jpg\n",
      "http://www.world-mushroom.com/jpeg/hiratake1.jpg\n",
      "Other Error\n",
      "http://img.photobucket.com/albums/v295/hazmat70/09stock.jpg\n",
      "http://mycoweb.narod.ru/fungi/Submitted/SJG4/Grifola_frondosa_1_JS_20070925.jpg\n",
      "http://www.teehaus-yinyang.com/images/Tcm_image002_0000.jpg\n",
      "Not Found\n",
      "http://3.bp.blogspot.com/_orNb4GML-NI/SMVbE5rcAgI/AAAAAAAAAek/R5HxClbFsz0/s400/henofthewoods6+copy.jpg\n",
      "http://www.uni-greifswald.de/%7Emycology/gallery/Bilder/Grifola%20frondosa.jpg\n",
      "Not Found\n",
      "http://www.mycokey.com/MycoKeySolidState/pictures/basi/agar/Conocybe/magnS.jpg\n",
      "http://www.fungomoscow.ru/images/8meytake-1.jpg\n",
      "http://www.michelegranata.org/monte%20vulture_file/image174.gif\n",
      "Not Found\n",
      "http://www.pilzshop.de/images/product_images/popup_images/85_2.jpg\n",
      "Not Found\n",
      "http://www.forestryimages.org/images/192x128/5015071.jpg\n",
      "Forbidden\n",
      "http://www.mushroom-collecting.com/Copy_of_06_01_76.JPEG\n",
      "http://www.mycological.com/recipes/hen.of.the.woods/henofthewoods.r.gif\n",
      "Not Found\n",
      "http://image.ecplaza.net/offer/d/derekfungi/5089846_s.jpg\n",
      "Object Not Found\n",
      "http://2.bp.blogspot.com/_xgTK3B8ySsQ/SOd_z_Fd7MI/AAAAAAAAAT0/WXv4njB-fZE/s400/P1010106.JPG\n",
      "http://farm1.static.flickr.com/90/239880875_878cea3a9c.jpg\n",
      "Flicker Error\n",
      "http://img.photobucket.com/albums/v165/cottonmanifesto/Jef%203oclock%20snapshots/snapshot062107.jpg\n",
      "==========> The number of images : 10\n",
      "\n",
      "997 : bolete\n",
      "====================\n",
      "http://web.guernsey.net/~cdavid/botany/files/xerocomus%20parasiticus/xerocomus.jpg\n",
      "[Errno 110] Connection timed out\n",
      "http://farm1.static.flickr.com/29/54951523_8c442f21cf.jpg\n",
      "http://farm3.static.flickr.com/2526/3792077308_193a32913a.jpg\n",
      "http://farm4.static.flickr.com/3651/3642532194_c246f5e5d8.jpg\n",
      "http://www.uc.pt/montado/cogumelos/Boletus_appendiculatus_YES_SCat_AACFMeioGado131104.jpg\n",
      "http://farm4.static.flickr.com/3236/2648803564_8d49ae3a45.jpg\n",
      "http://farm3.static.flickr.com/2417/1799660441_812034ab39.jpg\n",
      "http://static.flickr.com/79/232910997_9c42a3c8b9.jpg\n",
      "http://farm4.static.flickr.com/3208/2981505498_1100331dcb.jpg\n",
      "http://farm4.static.flickr.com/3592/3633529057_66f1f0f16f.jpg\n",
      "Flicker Error\n",
      "http://www.hlasek.com/foto/xerocomus_badius_a5596.jpg\n",
      "http://www.dkimages.com/discover/previews/1153/10569191.JPG\n",
      "Forbidden\n",
      "http://popgen.unimaas.nl/~jlindsey/commanster/Mushrooms/Boleta/SuBoleta/Boletus.pulverulentus.jpg\n",
      "Not Found\n",
      "http://www.wildaboutbritain.co.uk/files/imagecache/thumb/fungi/116Ceporpennybun-BoletusEdulis%5B1%5D.jpg\n",
      "Service unavailable (with message)\n",
      "http://upload.wikimedia.org/wikipedia/commons/thumb/f/f6/Boletus_badius_01.jpg/118px-Boletus_badius_01.jpg\n",
      "==========> The number of images : 10\n",
      "\n",
      "998 : ear, spike, capitulum\n",
      "====================\n",
      "http://farm1.static.flickr.com/217/507244566_0e9a3e3ffd.jpg\n",
      "http://www.utextension.utk.edu/fieldcrops/corn/corn_insects/insect_images/ECB-ear.jpg\n",
      "404 Not Found\n",
      "http://static.flickr.com/2376/2187335625_42d656990a.jpg\n",
      "Flicker Error\n",
      "http://farm4.static.flickr.com/3173/2427416301_a0c7f94c7d.jpg\n",
      "http://farm4.static.flickr.com/3329/3181518604_7b287684ff.jpg\n",
      "http://farm2.static.flickr.com/1005/1372135848_9cae92c391.jpg\n",
      "http://farm3.static.flickr.com/2018/1762474632_0ae422c61d.jpg\n",
      "http://farm1.static.flickr.com/96/238119243_fca3eb1ea0.jpg\n",
      "http://farm1.static.flickr.com/92/242466058_b2fc0643ce.jpg\n",
      "http://www.kussmaulseeds.com/images/pic-sweet-corn-luscious.jpg\n",
      "Not Found\n",
      "http://farm3.static.flickr.com/2685/4040867783_f61672a00f.jpg\n",
      "http://farm2.static.flickr.com/1435/1435796580_4be9e45584.jpg\n",
      "http://farm1.static.flickr.com/31/57796091_2c2f810952.jpg\n",
      "==========> The number of images : 10\n",
      "\n",
      "999 : toilet tissue, toilet paper, bathroom tissue\n",
      "====================\n",
      "http://farm3.static.flickr.com/2777/4137958870_55a6713040.jpg\n",
      "http://farm4.static.flickr.com/3064/2554997494_7a5388cf49.jpg\n",
      "http://farm4.static.flickr.com/3449/3913428776_5b71ac0596.jpg\n",
      "http://farm1.static.flickr.com/73/152859850_353ba2b3d3.jpg\n",
      "http://farm4.static.flickr.com/3351/3225849063_e0e862dd55.jpg\n",
      "http://farm3.static.flickr.com/2787/4278899173_16a700bb1a.jpg\n",
      "http://i05.c.aliimg.com/img/offer/43/83/60/44/43836044.summ.jpg\n",
      "http://farm4.static.flickr.com/3566/3403120072_68a104c366.jpg\n",
      "http://farm4.static.flickr.com/3149/3067391391_ff900ac682.jpg\n",
      "http://farm3.static.flickr.com/2409/2254290500_6304cc3a98.jpg\n",
      "==========> The number of images : 10\n",
      "\n"
     ]
    }
   ],
   "source": [
    "#log_file = open(\"log.txt\", \"w\", encoding=\"utf-8\")\n",
    "log_file = sys.stdout\n",
    "\n",
    "for i in df_id.index[996:]:\n",
    "    name = df_id['name'][i].strip()\n",
    "    print(\"{0} : {1}\".format(i, name), file=log_file)\n",
    "    print(\"====================\", file=log_file)\n",
    "    name_concat = name.replace(', ', ':').replace(' ', '_')\n",
    "    dir_base = str(df_id.index[i]) + \"__\" + name_concat \n",
    "    dir_path = os.path.join(args.data_dir, dir_base)\n",
    "    execute(\"mkdir -p {}\".format(dir_path))\n",
    "    \n",
    "    id = df_id['id'][i]\n",
    "    cnt = 0\n",
    "\n",
    "    try:\n",
    "        urls = urlopen(\"http://www.image-net.org/api/text/imagenet.synset.geturls?wnid=\"+id).read()\n",
    "        urls = urls.split()\n",
    "        urls = [x.decode() for x in urls if isinstance(x, bytes)]\n",
    "        random.shuffle(urls)\n",
    "        \n",
    "        for url in urls:\n",
    "            if cnt >= args.n_pics:\n",
    "                break\n",
    "                \n",
    "            print(url, file=log_file)\n",
    "            try:\n",
    "                out_file = os.path.join(dir_path, os.path.split(url)[1])\n",
    "                urlretrieve(url, out_file)\n",
    "                cnt += 1\n",
    "                \n",
    "                try:\n",
    "                    img = Image.open(out_file)\n",
    "                    size = os.path.getsize(out_file)\n",
    "                    if size == 2051:\n",
    "                        execute(\"rm {}\".format(out_file))\n",
    "                        cnt -= 1\n",
    "                        print(\"Flicker Error\", file=log_file)\n",
    "                    \n",
    "                except IOError as e:\n",
    "                    execute(\"rm {}\".format(out_file))    \n",
    "                    cnt -= 1\n",
    "                    print(e.reason, file=log_file)\n",
    "            \n",
    "            except HTTPError as e:\n",
    "                print(e.reason, file=log_file)\n",
    "            except URLError as e:\n",
    "                print(e.reason, file=log_file)\n",
    "            except IOError as e:\n",
    "                print(e.reason, file=log_file)\n",
    "            except:\n",
    "                print(\"Other Error\", file=log_file)\n",
    "        \n",
    "    except HTTPError as e:\n",
    "        print(e.reason, file=log_file)\n",
    "    except URLError as e:\n",
    "        print(e.reason, file=log_file)\n",
    "    except IOError as e:\n",
    "        print(e.reason, file=log_file)\n",
    "    except:\n",
    "        print(\"Other Error\", file=log_file)\n",
    "        \n",
    "    print(\"==========> The number of images : {}\\n\".format(cnt), file=log_file)\n",
    "    \n",
    "#log_file.close()"
   ]
  }
 ],
 "metadata": {
  "kernelspec": {
   "display_name": "Python 3",
   "language": "python",
   "name": "python3"
  },
  "language_info": {
   "codemirror_mode": {
    "name": "ipython",
    "version": 3
   },
   "file_extension": ".py",
   "mimetype": "text/x-python",
   "name": "python",
   "nbconvert_exporter": "python",
   "pygments_lexer": "ipython3",
   "version": "3.6.3"
  }
 },
 "nbformat": 4,
 "nbformat_minor": 2
}
